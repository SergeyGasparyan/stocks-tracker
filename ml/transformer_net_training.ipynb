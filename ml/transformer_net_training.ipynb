{
 "cells": [
  {
   "cell_type": "code",
   "execution_count": 1,
   "id": "dd39de70-a3e8-45c2-8c49-5c4397b97d1d",
   "metadata": {},
   "outputs": [],
   "source": [
    "import numpy as np\n",
    "import pandas as pd\n",
    "import yfinance as yf\n",
    "from sklearn import preprocessing, model_selection\n",
    "import tfm.nlp.layers.Transformer"
   ]
  },
  {
   "cell_type": "code",
   "execution_count": 2,
   "id": "dcd7593b-b196-4be0-8c22-757eca9ed816",
   "metadata": {},
   "outputs": [
    {
     "name": "stderr",
     "output_type": "stream",
     "text": [
      "[*********************100%%**********************]  1 of 1 completed\n"
     ]
    }
   ],
   "source": [
    "n_days = 10\n",
    "ticker_value = 'nvda'\n",
    "df_ml = yf.download(tickers=ticker_value, period='3mo', interval='1h')\n",
    "df_ml = df_ml[['Adj Close']]"
   ]
  },
  {
   "cell_type": "code",
   "execution_count": 3,
   "id": "3ab58c23-1f24-47ca-b300-dcb2a6b3bb3f",
   "metadata": {},
   "outputs": [
    {
     "data": {
      "text/html": [
       "<div>\n",
       "<style scoped>\n",
       "    .dataframe tbody tr th:only-of-type {\n",
       "        vertical-align: middle;\n",
       "    }\n",
       "\n",
       "    .dataframe tbody tr th {\n",
       "        vertical-align: top;\n",
       "    }\n",
       "\n",
       "    .dataframe thead th {\n",
       "        text-align: right;\n",
       "    }\n",
       "</style>\n",
       "<table border=\"1\" class=\"dataframe\">\n",
       "  <thead>\n",
       "    <tr style=\"text-align: right;\">\n",
       "      <th></th>\n",
       "      <th>Adj Close</th>\n",
       "    </tr>\n",
       "    <tr>\n",
       "      <th>Datetime</th>\n",
       "      <th></th>\n",
       "    </tr>\n",
       "  </thead>\n",
       "  <tbody>\n",
       "    <tr>\n",
       "      <th>2024-02-05 09:30:00-05:00</th>\n",
       "      <td>681.597290</td>\n",
       "    </tr>\n",
       "    <tr>\n",
       "      <th>2024-02-05 10:30:00-05:00</th>\n",
       "      <td>681.390015</td>\n",
       "    </tr>\n",
       "    <tr>\n",
       "      <th>2024-02-05 11:30:00-05:00</th>\n",
       "      <td>689.609985</td>\n",
       "    </tr>\n",
       "    <tr>\n",
       "      <th>2024-02-05 12:30:00-05:00</th>\n",
       "      <td>688.825012</td>\n",
       "    </tr>\n",
       "    <tr>\n",
       "      <th>2024-02-05 13:30:00-05:00</th>\n",
       "      <td>689.505005</td>\n",
       "    </tr>\n",
       "    <tr>\n",
       "      <th>...</th>\n",
       "      <td>...</td>\n",
       "    </tr>\n",
       "    <tr>\n",
       "      <th>2024-05-03 11:30:00-04:00</th>\n",
       "      <td>885.409973</td>\n",
       "    </tr>\n",
       "    <tr>\n",
       "      <th>2024-05-03 12:30:00-04:00</th>\n",
       "      <td>888.239990</td>\n",
       "    </tr>\n",
       "    <tr>\n",
       "      <th>2024-05-03 13:30:00-04:00</th>\n",
       "      <td>891.219971</td>\n",
       "    </tr>\n",
       "    <tr>\n",
       "      <th>2024-05-03 14:30:00-04:00</th>\n",
       "      <td>888.630005</td>\n",
       "    </tr>\n",
       "    <tr>\n",
       "      <th>2024-05-03 15:30:00-04:00</th>\n",
       "      <td>887.830017</td>\n",
       "    </tr>\n",
       "  </tbody>\n",
       "</table>\n",
       "<p>441 rows × 1 columns</p>\n",
       "</div>"
      ],
      "text/plain": [
       "                            Adj Close\n",
       "Datetime                             \n",
       "2024-02-05 09:30:00-05:00  681.597290\n",
       "2024-02-05 10:30:00-05:00  681.390015\n",
       "2024-02-05 11:30:00-05:00  689.609985\n",
       "2024-02-05 12:30:00-05:00  688.825012\n",
       "2024-02-05 13:30:00-05:00  689.505005\n",
       "...                               ...\n",
       "2024-05-03 11:30:00-04:00  885.409973\n",
       "2024-05-03 12:30:00-04:00  888.239990\n",
       "2024-05-03 13:30:00-04:00  891.219971\n",
       "2024-05-03 14:30:00-04:00  888.630005\n",
       "2024-05-03 15:30:00-04:00  887.830017\n",
       "\n",
       "[441 rows x 1 columns]"
      ]
     },
     "execution_count": 3,
     "metadata": {},
     "output_type": "execute_result"
    }
   ],
   "source": [
    "df_ml"
   ]
  },
  {
   "cell_type": "code",
   "execution_count": null,
   "id": "15f391f1-9df0-4fae-9d67-aee06aff8f75",
   "metadata": {},
   "outputs": [],
   "source": [
    "df_ml['Prediction'] = df_ml[['Adj Close']].shift(-n_days)"
   ]
  },
  {
   "cell_type": "code",
   "execution_count": null,
   "id": "25f0e6ef-ca5a-4eff-9626-d08949c57bc0",
   "metadata": {},
   "outputs": [],
   "source": [
    "X = np.array(df_ml.drop(['Prediction'], axis=1))\n",
    "X = preprocessing.scale(X)\n",
    "X_forecast = X[-n_days:]\n",
    "X = X[:-forecast_out]\n",
    "y = np.array(df_ml['Prediction'])\n",
    "y = y[:-forecast_out]\n",
    "\n",
    "# Reshape X into 3D\n",
    "X = X.reshape((X.shape[0], 1, X.shape[1]))\n",
    "X_forecast = X_forecast.reshape((X_forecast.shape[0], 1, X_forecast.shape[1]))\n",
    "\n",
    "X_train, X_test, y_train, y_test = model_selection.train_test_split(X, y, test_size = 0.2)"
   ]
  }
 ],
 "metadata": {
  "kernelspec": {
   "display_name": "Python 3 (ipykernel)",
   "language": "python",
   "name": "python3"
  },
  "language_info": {
   "codemirror_mode": {
    "name": "ipython",
    "version": 3
   },
   "file_extension": ".py",
   "mimetype": "text/x-python",
   "name": "python",
   "nbconvert_exporter": "python",
   "pygments_lexer": "ipython3",
   "version": "3.12.2"
  }
 },
 "nbformat": 4,
 "nbformat_minor": 5
}
